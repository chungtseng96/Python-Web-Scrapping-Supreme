{
 "cells": [
  {
   "cell_type": "code",
   "execution_count": 181,
   "metadata": {},
   "outputs": [],
   "source": [
    "from urllib.request import urlopen as uReq\n",
    "import pandas as pd\n",
    "import os\n",
    "from bs4 import BeautifulSoup as soup"
   ]
  },
  {
   "cell_type": "code",
   "execution_count": 182,
   "metadata": {},
   "outputs": [],
   "source": [
    "my_url = 'https://www.supremenewyork.com/shop'"
   ]
  },
  {
   "cell_type": "code",
   "execution_count": 183,
   "metadata": {},
   "outputs": [],
   "source": [
    "#Opening up connection grabbing the page\n",
    "uClient = uReq(my_url)\n",
    "page_html = uClient.read()\n",
    "uClient.close()"
   ]
  },
  {
   "cell_type": "code",
   "execution_count": 184,
   "metadata": {},
   "outputs": [
    {
     "data": {
      "text/plain": [
       "<h1 class=\"logo\"><a href=\"http://www.supremenewyork.com/index\">Supreme</a></h1>"
      ]
     },
     "execution_count": 184,
     "metadata": {},
     "output_type": "execute_result"
    }
   ],
   "source": [
    "#html parser\n",
    "page_soup = soup(page_html, 'html.parser')\n",
    "page_soup.h1"
   ]
  },
  {
   "cell_type": "code",
   "execution_count": 185,
   "metadata": {},
   "outputs": [
    {
     "data": {
      "text/plain": [
       "39"
      ]
     },
     "execution_count": 185,
     "metadata": {},
     "output_type": "execute_result"
    }
   ],
   "source": [
    "#grab each tuple in dataset\n",
    "containers = page_soup.findAll('li')\n",
    "containers = containers[2:41]\n",
    "len(containers)"
   ]
  },
  {
   "cell_type": "code",
   "execution_count": 186,
   "metadata": {},
   "outputs": [
    {
     "data": {
      "text/plain": [
       "'/shop/accessories/zf83g0dx4'"
      ]
     },
     "execution_count": 186,
     "metadata": {},
     "output_type": "execute_result"
    }
   ],
   "source": [
    "#Set up for building loop\n",
    "contain = containers[0]\n",
    "container = containers[0]\n",
    "#inner link\n",
    "inner_link = container.a.attrs['href']\n",
    "inner_link"
   ]
  },
  {
   "cell_type": "code",
   "execution_count": 179,
   "metadata": {},
   "outputs": [],
   "source": [
    "#Loop through each item in containers to extract information from inner_link of each item\n",
    "filename = 'Supreme.csv'\n",
    "f = open(filename, 'w')\n",
    "headers = 'product_name, price_amount\\n'\n",
    "f.write(headers)\n",
    "\n",
    "for container in containers:\n",
    "    inner_link = container.a.attrs['href']\n",
    "    full_link = 'https://www.supremenewyork.com'+ inner_link \n",
    "    uClient = uReq(full_link)\n",
    "    page_html = uClient.read()\n",
    "    uClient.close()\n",
    "    page_soup = soup(page_html, 'html.parser')\n",
    "    name = page_soup.head.title.string\n",
    "    for p in page_soup.find_all('p',{'class','price'}):\n",
    "        price = p.text\n",
    "    f.write(name + ',' +  price + '\\n')\n",
    "f.close()"
   ]
  },
  {
   "cell_type": "code",
   "execution_count": null,
   "metadata": {},
   "outputs": [],
   "source": []
  }
 ],
 "metadata": {
  "kernelspec": {
   "display_name": "Python 3",
   "language": "python",
   "name": "python3"
  },
  "language_info": {
   "codemirror_mode": {
    "name": "ipython",
    "version": 3
   },
   "file_extension": ".py",
   "mimetype": "text/x-python",
   "name": "python",
   "nbconvert_exporter": "python",
   "pygments_lexer": "ipython3",
   "version": "3.6.4"
  }
 },
 "nbformat": 4,
 "nbformat_minor": 2
}
