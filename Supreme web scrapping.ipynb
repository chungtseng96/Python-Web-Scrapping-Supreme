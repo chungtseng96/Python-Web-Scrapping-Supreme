{
 "cells": [
  {
   "cell_type": "code",
   "execution_count": 2,
   "metadata": {},
   "outputs": [],
   "source": [
    "from urllib.request import urlopen as uReq\n",
    "import pandas as pd\n",
    "import os\n",
    "from bs4 import BeautifulSoup as soup"
   ]
  },
  {
   "cell_type": "code",
   "execution_count": 151,
   "metadata": {},
   "outputs": [],
   "source": [
    "my_url = 'https://www.supremenewyork.com/shop'"
   ]
  },
  {
   "cell_type": "code",
   "execution_count": 152,
   "metadata": {},
   "outputs": [],
   "source": [
    "#Opening up connection grabbing the page\n",
    "uClient = uReq(my_url)\n",
    "page_html = uClient.read()\n",
    "uClient.close()"
   ]
  },
  {
   "cell_type": "code",
   "execution_count": 153,
   "metadata": {},
   "outputs": [
    {
     "data": {
      "text/plain": [
       "<h1 class=\"logo\"><a href=\"http://www.supremenewyork.com/index\">Supreme</a></h1>"
      ]
     },
     "execution_count": 153,
     "metadata": {},
     "output_type": "execute_result"
    }
   ],
   "source": [
    "#html parser\n",
    "page_soup = soup(page_html, 'html.parser')\n",
    "page_soup.h1"
   ]
  },
  {
   "cell_type": "code",
   "execution_count": 154,
   "metadata": {},
   "outputs": [
    {
     "data": {
      "text/plain": [
       "[<li class=\"accessories\"><a href=\"/shop/accessories/zf83g0dx4\"><span class=\"new_item_tag\">new</span><img alt=\"\" height=\"360\" src=\"//assets.supremenewyork.com/151115/ma/SKvrSbRdyBA.png\" width=\"49\"/></a></li>,\n",
       " <li class=\"accessories\"><a href=\"/shop/accessories/j1zurq2cm\"><span class=\"new_item_tag\">new</span><img alt=\"\" height=\"360\" src=\"//assets.supremenewyork.com/151123/ma/194Ur1whE6w.png\" width=\"49\"/></a></li>,\n",
       " <li class=\"accessories\"><a href=\"/shop/accessories/xtynmzxk4\"><span class=\"new_item_tag\">new</span><img alt=\"\" height=\"360\" src=\"//assets.supremenewyork.com/151124/ma/LOTvqvR1jlU.png\" width=\"49\"/></a></li>,\n",
       " <li class=\"accessories\"><a href=\"/shop/accessories/w9zpol3ec\"><span class=\"new_item_tag\">new</span><img alt=\"\" height=\"360\" src=\"//assets.supremenewyork.com/151121/ma/ObRCH25ij4o.png\" width=\"49\"/></a></li>,\n",
       " <li class=\"accessories\"><a href=\"/shop/accessories/oqcsjy4rf\"><span class=\"new_item_tag\">new</span><img alt=\"\" height=\"360\" src=\"//assets.supremenewyork.com/151120/ma/6WGQyIMwEJU.png\" width=\"49\"/></a></li>,\n",
       " <li class=\"jackets\"><a href=\"/shop/jackets/fq6nrsmzf\"><span class=\"new_item_tag\">new</span><img alt=\"\" height=\"360\" src=\"//assets.supremenewyork.com/151168/ma/vXmCHThSFOQ.png\" width=\"49\"/></a></li>,\n",
       " <li class=\"jackets\"><a href=\"/shop/jackets/xh9b6g1wq\"><span class=\"new_item_tag\">new</span><img alt=\"\" height=\"360\" src=\"//assets.supremenewyork.com/151173/ma/7L48uvna_7c.png\" width=\"49\"/></a></li>,\n",
       " <li class=\"shirts\"><a href=\"/shop/shirts/eanpxstw7\"><span class=\"new_item_tag\">new</span><img alt=\"\" height=\"360\" src=\"//assets.supremenewyork.com/151169/ma/7uxe2_OzaMg.png\" width=\"49\"/></a></li>,\n",
       " <li class=\"shirts\"><a href=\"/shop/shirts/jynvto370\"><span class=\"new_item_tag\">new</span><img alt=\"\" height=\"360\" src=\"//assets.supremenewyork.com/151154/ma/ixNMCSriF5c.png\" width=\"49\"/></a></li>,\n",
       " <li class=\"sweatshirts\"><a href=\"/shop/sweatshirts/ijrl1sufz\"><span class=\"new_item_tag\">new</span><img alt=\"\" height=\"360\" src=\"//assets.supremenewyork.com/151163/ma/KmMFYpgyC2M.png\" width=\"49\"/></a></li>,\n",
       " <li class=\"sweatshirts\"><a href=\"/shop/sweatshirts/yjtlceur8\"><span class=\"new_item_tag\">new</span><img alt=\"\" height=\"360\" src=\"//assets.supremenewyork.com/151164/ma/CDm4aBh25fw.png\" width=\"49\"/></a></li>,\n",
       " <li class=\"sweatshirts\"><a href=\"/shop/sweatshirts/najhkvoy0\"><img alt=\"\" height=\"360\" src=\"//assets.supremenewyork.com/151046/ma/M-zifP-x8UM.jpg\" width=\"49\"/></a></li>,\n",
       " <li class=\"tops/sweaters\"><a href=\"/shop/tops-sweaters/z6urltdpj\"><span class=\"new_item_tag\">new</span><img alt=\"\" height=\"360\" src=\"//assets.supremenewyork.com/151166/ma/28fGQ0Jtu5s.png\" width=\"49\"/></a></li>,\n",
       " <li class=\"tops/sweaters\"><a href=\"/shop/tops-sweaters/kp7z1dcax\"><span class=\"new_item_tag\">new</span><img alt=\"\" height=\"360\" src=\"//assets.supremenewyork.com/151155/ma/yzaPokRzEjY.png\" width=\"49\"/></a></li>,\n",
       " <li class=\"tops/sweaters\"><a href=\"/shop/tops-sweaters/xxjvtleky\"><span class=\"new_item_tag\">new</span><img alt=\"\" height=\"360\" src=\"//assets.supremenewyork.com/151167/ma/bDivu51Pe60.png\" width=\"49\"/></a></li>,\n",
       " <li class=\"tops/sweaters\"><a href=\"/shop/tops-sweaters/v2guxknao\"><span class=\"new_item_tag\">new</span><img alt=\"\" height=\"360\" src=\"//assets.supremenewyork.com/151170/ma/wGh5eH21kvc.png\" width=\"49\"/></a></li>,\n",
       " <li class=\"pants\"><a href=\"/shop/pants/jvb4yxe8j\"><span class=\"new_item_tag\">new</span><img alt=\"\" height=\"360\" src=\"//assets.supremenewyork.com/151095/ma/T5slgcpbRz0.png\" width=\"49\"/></a></li>,\n",
       " <li class=\"pants\"><a href=\"/shop/pants/phmoy13v7\"><img alt=\"\" height=\"360\" src=\"//assets.supremenewyork.com/150602/ma/EyiJTKlgUhk.png\" width=\"49\"/></a></li>,\n",
       " <li class=\"shorts\"><a href=\"/shop/shorts/l04x683bc\"><span class=\"new_item_tag\">new</span><img alt=\"\" height=\"360\" src=\"//assets.supremenewyork.com/151171/ma/9VjmJFgdM1c.png\" width=\"49\"/></a></li>,\n",
       " <li class=\"shorts\"><a href=\"/shop/shorts/u9ykq8eio\"><span class=\"new_item_tag\">new</span><img alt=\"\" height=\"360\" src=\"//assets.supremenewyork.com/151153/ma/J5ILZGS9yiw.png\" width=\"49\"/></a></li>,\n",
       " <li class=\"shorts\"><a href=\"/shop/shorts/beodbx79m\"><span class=\"new_item_tag\">new</span><img alt=\"\" height=\"360\" src=\"//assets.supremenewyork.com/151175/ma/2VPh5SU_l7w.png\" width=\"49\"/></a></li>,\n",
       " <li class=\"hats\"><a href=\"/shop/hats/u1lhqxg6a\"><span class=\"new_item_tag\">new</span><img alt=\"\" height=\"360\" src=\"//assets.supremenewyork.com/151156/ma/EhARwtJ7MOQ.png\" width=\"49\"/></a></li>,\n",
       " <li class=\"hats\"><a href=\"/shop/hats/azh0m2ore\"><span class=\"new_item_tag\">new</span><img alt=\"\" height=\"360\" src=\"//assets.supremenewyork.com/151151/ma/6CNxdBushds.png\" width=\"49\"/></a></li>,\n",
       " <li class=\"hats\"><a href=\"/shop/hats/kg49xh7a8\"><span class=\"new_item_tag\">new</span><img alt=\"\" height=\"360\" src=\"//assets.supremenewyork.com/151158/ma/4Ud5KQ_A9GY.png\" width=\"49\"/></a></li>,\n",
       " <li class=\"bags\"><a href=\"/shop/bags/hgsen18ov\"><img alt=\"\" height=\"360\" src=\"//assets.supremenewyork.com/149082/ma/wmrdCR8TFYs.png\" width=\"49\"/></a></li>,\n",
       " <li class=\"bags\"><a href=\"/shop/bags/i7oj9kdet\"><img alt=\"\" height=\"360\" src=\"//assets.supremenewyork.com/149200/ma/bGQ8cmZDUzs.png\" width=\"49\"/></a></li>,\n",
       " <li class=\"bags\"><a href=\"/shop/bags/z7z1phmu4\"><img alt=\"\" height=\"360\" src=\"//assets.supremenewyork.com/149083/ma/I6YeVmxYatA.png\" width=\"49\"/></a></li>,\n",
       " <li class=\"bags\"><a href=\"/shop/bags/depys13n6\"><img alt=\"\" height=\"360\" src=\"//assets.supremenewyork.com/149211/ma/3w0n35cklug.png\" width=\"49\"/></a></li>,\n",
       " <li class=\"bags\"><a href=\"/shop/bags/ivx6g9mdp\"><img alt=\"\" height=\"360\" src=\"//assets.supremenewyork.com/149221/ma/zlSe8zPgK-I.png\" width=\"49\"/></a></li>,\n",
       " <li class=\"accessories\"><a href=\"/shop/accessories/tq56btnw3\"><span class=\"new_item_tag\">new</span><img alt=\"\" height=\"360\" src=\"//assets.supremenewyork.com/151100/ma/EHiuc4zCaAg.png\" width=\"49\"/></a></li>,\n",
       " <li class=\"accessories\"><a href=\"/shop/accessories/ho8sdqbxl\"><span class=\"new_item_tag\">new</span><img alt=\"\" height=\"360\" src=\"//assets.supremenewyork.com/151099/ma/l1_poaWiKjA.png\" width=\"49\"/></a></li>,\n",
       " <li class=\"accessories\"><a href=\"/shop/accessories/zyk80jb7x\"><img alt=\"\" height=\"360\" src=\"//assets.supremenewyork.com/149212/ma/Vrv0h-Ck5NA.png\" width=\"49\"/></a></li>,\n",
       " <li class=\"accessories\"><a href=\"/shop/accessories/v0tj29qzc\"><img alt=\"\" height=\"360\" src=\"//assets.supremenewyork.com/149919/ma/Elp6EeKG2Xg.png\" width=\"49\"/></a></li>,\n",
       " <li class=\"accessories\"><a href=\"/shop/accessories/cipcs8t1m\"><img alt=\"\" height=\"360\" src=\"//assets.supremenewyork.com/149918/ma/0PDYfS7GReY.png\" width=\"49\"/></a></li>,\n",
       " <li class=\"accessories\"><a href=\"/shop/accessories/vz3kqdcyr\"><img alt=\"\" height=\"360\" src=\"//assets.supremenewyork.com/149185/ma/kQlbIIIko8Y.jpg\" width=\"49\"/></a></li>,\n",
       " <li class=\"accessories\"><a href=\"/shop/accessories/z6xewdsa4\"><img alt=\"\" height=\"360\" src=\"//assets.supremenewyork.com/149188/ma/OKyjFSBLNq0.jpg\" width=\"49\"/></a></li>,\n",
       " <li class=\"accessories\"><a href=\"/shop/accessories/yyqumgwb3\"><img alt=\"\" height=\"360\" src=\"//assets.supremenewyork.com/149197/ma/rZ7dHlmxY94.jpg\" width=\"49\"/></a></li>,\n",
       " <li class=\"skate\"><a href=\"/shop/skate/z3mgds4c1\"><img alt=\"\" height=\"360\" src=\"//assets.supremenewyork.com/149193/ma/MCz_FHitrbk.jpg\" width=\"49\"/></a></li>,\n",
       " <li class=\"skate\"><a href=\"/shop/skate/zb75ym1xz\"><img alt=\"\" height=\"360\" src=\"//assets.supremenewyork.com/149191/ma/QLb2zhETmCU.jpg\" width=\"49\"/></a></li>]"
      ]
     },
     "execution_count": 154,
     "metadata": {},
     "output_type": "execute_result"
    }
   ],
   "source": [
    "#grab each tuple in dataset\n",
    "containers = page_soup.findAll('li')\n",
    "containers = containers[2:41]\n",
    "len(containers)\n",
    "containers"
   ]
  },
  {
   "cell_type": "code",
   "execution_count": 155,
   "metadata": {},
   "outputs": [
    {
     "data": {
      "text/plain": [
       "'/shop/accessories/zf83g0dx4'"
      ]
     },
     "execution_count": 155,
     "metadata": {},
     "output_type": "execute_result"
    }
   ],
   "source": [
    "#Set up for building loop\n",
    "contain = containers[0]\n",
    "container = containers[0]\n",
    "#inner link\n",
    "inner_link = container.a.attrs['href']\n",
    "inner_link"
   ]
  },
  {
   "cell_type": "code",
   "execution_count": 179,
   "metadata": {},
   "outputs": [],
   "source": [
    "#Loop through each item in containers to extract information from inner_link of each item\n",
    "filename = 'Supreme.csv'\n",
    "f = open(filename, 'w')\n",
    "headers = 'product_name, price_amount\\n'\n",
    "f.write(headers)\n",
    "\n",
    "for container in containers:\n",
    "    inner_link = container.a.attrs['href']\n",
    "    full_link = 'https://www.supremenewyork.com'+ inner_link \n",
    "    uClient = uReq(full_link)\n",
    "    page_html = uClient.read()\n",
    "    uClient.close()\n",
    "    page_soup = soup(page_html, 'html.parser')\n",
    "    name = page_soup.head.title.string\n",
    "    for p in page_soup.find_all('p',{'class','price'}):\n",
    "        price = p.text\n",
    "    f.write(name + ',' +  price + '\\n')\n",
    "f.close()"
   ]
  },
  {
   "cell_type": "code",
   "execution_count": null,
   "metadata": {},
   "outputs": [],
   "source": []
  }
 ],
 "metadata": {
  "kernelspec": {
   "display_name": "Python 3",
   "language": "python",
   "name": "python3"
  },
  "language_info": {
   "codemirror_mode": {
    "name": "ipython",
    "version": 3
   },
   "file_extension": ".py",
   "mimetype": "text/x-python",
   "name": "python",
   "nbconvert_exporter": "python",
   "pygments_lexer": "ipython3",
   "version": "3.6.4"
  }
 },
 "nbformat": 4,
 "nbformat_minor": 2
}
